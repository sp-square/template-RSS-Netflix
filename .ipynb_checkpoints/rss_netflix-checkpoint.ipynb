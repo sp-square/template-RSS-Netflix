{
 "cells": [
  {
   "cell_type": "code",
   "execution_count": 2,
   "id": "06c82b33",
   "metadata": {},
   "outputs": [],
   "source": [
    "import feedparser # -> pip install feedparser\n",
    "import pandas as pd"
   ]
  },
  {
   "cell_type": "code",
   "execution_count": 3,
   "id": "0af30434",
   "metadata": {},
   "outputs": [
    {
     "data": {
      "text/plain": [
       "feedparser.util.FeedParserDict"
      ]
     },
     "execution_count": 3,
     "metadata": {},
     "output_type": "execute_result"
    }
   ],
   "source": [
    "url = \"https://usa.newonnetflix.info/feed\"\n",
    "\n",
    "feed = feedparser.parse(url)\n",
    "\n",
    "type(feed)"
   ]
  },
  {
   "cell_type": "markdown",
   "id": "13e55481",
   "metadata": {},
   "source": [
    "\"parse\" is the primary function in FeedParser. The returned object is dictionary like and can be handled similarly to a dictionary. For example, we can look at the keys it contains and what type of items those keys are."
   ]
  },
  {
   "cell_type": "code",
   "execution_count": 4,
   "id": "66bb11ae",
   "metadata": {},
   "outputs": [
    {
     "data": {
      "text/plain": [
       "dict_keys(['bozo', 'entries', 'feed', 'headers', 'updated', 'updated_parsed', 'href', 'status', 'encoding', 'version', 'namespaces'])"
      ]
     },
     "execution_count": 4,
     "metadata": {},
     "output_type": "execute_result"
    }
   ],
   "source": [
    "feed.keys()"
   ]
  },
  {
   "cell_type": "code",
   "execution_count": 5,
   "id": "6c1e1aee",
   "metadata": {},
   "outputs": [
    {
     "data": {
      "text/plain": [
       "bool"
      ]
     },
     "execution_count": 5,
     "metadata": {},
     "output_type": "execute_result"
    }
   ],
   "source": [
    "type(feed.bozo)"
   ]
  },
  {
   "cell_type": "code",
   "execution_count": 6,
   "id": "1bf83460",
   "metadata": {},
   "outputs": [
    {
     "data": {
      "text/plain": [
       "feedparser.util.FeedParserDict"
      ]
     },
     "execution_count": 6,
     "metadata": {},
     "output_type": "execute_result"
    }
   ],
   "source": [
    "type(feed.feed)"
   ]
  },
  {
   "cell_type": "code",
   "execution_count": 7,
   "id": "78cd643a",
   "metadata": {},
   "outputs": [
    {
     "data": {
      "text/plain": [
       "'rss20'"
      ]
     },
     "execution_count": 7,
     "metadata": {},
     "output_type": "execute_result"
    }
   ],
   "source": [
    "feed.version"
   ]
  },
  {
   "cell_type": "markdown",
   "id": "1d0eb17d",
   "metadata": {},
   "source": [
    "Bozo is an interesting key to know about if you are going to parse a RSS feed in code. FeedParser sets the bozo bit when it detects a feed is not well-formed. (FeedParser will still parse the feed if it is not well-formed.) You can use the bozo bit to create error handling or just print a simple warning."
   ]
  },
  {
   "cell_type": "code",
   "execution_count": 8,
   "id": "7659471b",
   "metadata": {},
   "outputs": [
    {
     "name": "stdout",
     "output_type": "stream",
     "text": [
      "Well done, you have a well-formed feed!\n"
     ]
    }
   ],
   "source": [
    "if feed.bozo == 0:\n",
    "    print(\"Well done, you have a well-formed feed!\")\n",
    "else:\n",
    "    print(\"Potential trouble ahead.\")"
   ]
  },
  {
   "cell_type": "markdown",
   "id": "c0b05b41",
   "metadata": {},
   "source": [
    "We can look at some of the feed elements through the feed attribute."
   ]
  },
  {
   "cell_type": "code",
   "execution_count": 9,
   "id": "816e89ee",
   "metadata": {},
   "outputs": [
    {
     "data": {
      "text/plain": [
       "dict_keys(['webfeeds_analytics', 'title', 'title_detail', 'links', 'link', 'subtitle', 'subtitle_detail', 'language', 'published', 'published_parsed', 'updated', 'updated_parsed', 'authors', 'author', 'author_detail', 'publisher', 'publisher_detail'])"
      ]
     },
     "execution_count": 9,
     "metadata": {},
     "output_type": "execute_result"
    }
   ],
   "source": [
    "feed.feed.keys()"
   ]
  },
  {
   "cell_type": "code",
   "execution_count": 12,
   "id": "30f190e4",
   "metadata": {},
   "outputs": [
    {
     "name": "stdout",
     "output_type": "stream",
     "text": [
      "New On Netflix USA\n",
      "https://usa.newonnetflix.info\n",
      "Sun, 16 Jan 2022 01:07:20 -0500\n"
     ]
    }
   ],
   "source": [
    "print(feed.feed.title)\n",
    "print(feed.feed.link)\n",
    "print(feed.feed.published)"
   ]
  },
  {
   "cell_type": "code",
   "execution_count": 13,
   "id": "a72cbc98",
   "metadata": {},
   "outputs": [
    {
     "data": {
      "text/plain": [
       "'RSS feed for new additions over the last 5 days to Netflix USA (100% unofficial!). A project by MaFt.co.uk'"
      ]
     },
     "execution_count": 13,
     "metadata": {},
     "output_type": "execute_result"
    }
   ],
   "source": [
    "feed.feed.description"
   ]
  },
  {
   "cell_type": "markdown",
   "id": "276481a6",
   "metadata": {},
   "source": [
    "As with standard python dictionaries, we can use the \"get\" method to see if a key exists. This is useful if we are writing code."
   ]
  },
  {
   "cell_type": "code",
   "execution_count": 14,
   "id": "f955440c",
   "metadata": {},
   "outputs": [
    {
     "data": {
      "text/plain": [
       "'N/A'"
      ]
     },
     "execution_count": 14,
     "metadata": {},
     "output_type": "execute_result"
    }
   ],
   "source": [
    "feed.feed.get('non_existent_key', 'N/A')"
   ]
  },
  {
   "cell_type": "code",
   "execution_count": 15,
   "id": "a233e7ef",
   "metadata": {},
   "outputs": [
    {
     "data": {
      "text/plain": [
       "17"
      ]
     },
     "execution_count": 15,
     "metadata": {},
     "output_type": "execute_result"
    }
   ],
   "source": [
    "len(feed.entries)"
   ]
  },
  {
   "cell_type": "markdown",
   "id": "e3f5be23",
   "metadata": {},
   "source": [
    "The items in entries are stored as a list"
   ]
  },
  {
   "cell_type": "code",
   "execution_count": 16,
   "id": "f9a2b1e4",
   "metadata": {},
   "outputs": [
    {
     "data": {
      "text/plain": [
       "list"
      ]
     },
     "execution_count": 16,
     "metadata": {},
     "output_type": "execute_result"
    }
   ],
   "source": [
    "type(feed.entries)"
   ]
  },
  {
   "cell_type": "code",
   "execution_count": 17,
   "id": "fbd80b7f",
   "metadata": {},
   "outputs": [
    {
     "data": {
      "text/plain": [
       "'16th Jan: Paddington (2014), 1hr 35m [PG] - Streaming Again (6.65/10)'"
      ]
     },
     "execution_count": 17,
     "metadata": {},
     "output_type": "execute_result"
    }
   ],
   "source": [
    "feed.entries[0].title"
   ]
  },
  {
   "cell_type": "code",
   "execution_count": 21,
   "id": "05ec44d1",
   "metadata": {},
   "outputs": [
    {
     "name": "stdout",
     "output_type": "stream",
     "text": [
      "1 - 16th Jan: Paddington (2014), 1hr 35m [PG] - Streaming Again (6.65/10)\n",
      "2 - 16th Jan: Phantom Thread (2017), 2hr 10m [R] (6.75/10)\n",
      "3 - 15th Jan: A・RIGATO ーJARUJARU TOWER 2020&#x30fc (2020), 1hr 40m [TV-G] (6/10)\n",
      "4 - 14th Jan: Fatuma (2018), 1hr 18m [TV-14] (6/10)\n",
      "5 - 14th Jan: The Ultimate Braai Master (2021), 1 Season [TV-G] (6.55/10)\n",
      "6 - 14th Jan: Archive 81 (2022), 1 Season [TV-MA] (6/10)\n",
      "7 - 14th Jan: The House (2022), 1hr 37m [TV-MA] (6/10)\n",
      "8 - 14th Jan: Riverdance: The Animated Adventure (2022), 1hr 33m [TV-G] (5.65/10)\n",
      "9 - 14th Jan: This Is Not a Comedy (2022), 1hr 45m [TV-MA] (6/10)\n",
      "10 - 14th Jan: Yeh Kaali Kaali Ankhein (2022), 1 Season [TV-MA] (6/10)\n",
      "11 - 14th Jan: After Life (2022), 3 Seasons [TV-MA] - New Episodes (7.2/10)\n",
      "12 - 13th Jan: Brazen (2022), 1hr 36m [TV-14] (6/10)\n",
      "13 - 13th Jan: The Journalist (2022), 1 Season [TV-14] (6/10)\n",
      "14 - 13th Jan: Photocopier (2022), 2hr 10m [TV-MA] (6/10)\n",
      "15 - 12th Jan: The God Committee (2021), 1hr 38m [TV-MA] (5.85/10)\n",
      "16 - 12th Jan: How I Fell in Love with a Gangster (2022), 3hr 5m [TV-MA] (6/10)\n",
      "17 - 12th Jan: Cheer (2022), 2 Seasons [TV-MA] - New Episodes (6.95/10)\n"
     ]
    }
   ],
   "source": [
    "i = 1\n",
    "for entry in feed.entries:\n",
    "    print(f\"{i} - {entry.title}\")\n",
    "    i += 1"
   ]
  },
  {
   "cell_type": "markdown",
   "id": "36995738",
   "metadata": {},
   "source": [
    "We can create a dataframe with this data."
   ]
  },
  {
   "cell_type": "code",
   "execution_count": 24,
   "id": "047e319f",
   "metadata": {},
   "outputs": [],
   "source": [
    "df = pd.DataFrame(feed.entries)"
   ]
  },
  {
   "cell_type": "code",
   "execution_count": 26,
   "id": "e89ecfcc",
   "metadata": {},
   "outputs": [
    {
     "data": {
      "text/html": [
       "<div>\n",
       "<style scoped>\n",
       "    .dataframe tbody tr th:only-of-type {\n",
       "        vertical-align: middle;\n",
       "    }\n",
       "\n",
       "    .dataframe tbody tr th {\n",
       "        vertical-align: top;\n",
       "    }\n",
       "\n",
       "    .dataframe thead th {\n",
       "        text-align: right;\n",
       "    }\n",
       "</style>\n",
       "<table border=\"1\" class=\"dataframe\">\n",
       "  <thead>\n",
       "    <tr style=\"text-align: right;\">\n",
       "      <th></th>\n",
       "      <th>title</th>\n",
       "      <th>title_detail</th>\n",
       "      <th>links</th>\n",
       "      <th>link</th>\n",
       "      <th>summary</th>\n",
       "      <th>summary_detail</th>\n",
       "      <th>published</th>\n",
       "      <th>published_parsed</th>\n",
       "      <th>id</th>\n",
       "      <th>guidislink</th>\n",
       "    </tr>\n",
       "  </thead>\n",
       "  <tbody>\n",
       "    <tr>\n",
       "      <th>0</th>\n",
       "      <td>16th Jan: Paddington (2014), 1hr 35m [PG] - St...</td>\n",
       "      <td>{'type': 'text/plain', 'language': None, 'base...</td>\n",
       "      <td>[{'rel': 'alternate', 'type': 'text/html', 'hr...</td>\n",
       "      <td>https://usa.newonnetflix.info/info/70305929</td>\n",
       "      <td>[Streaming Again] A lovable young bear from th...</td>\n",
       "      <td>{'type': 'text/html', 'language': None, 'base'...</td>\n",
       "      <td>Sun, 16 Jan 2022 01:07:20 -0500</td>\n",
       "      <td>(2022, 1, 16, 6, 7, 20, 6, 16, 0)</td>\n",
       "      <td>https://usa.newonnetflix.info/info/70305929</td>\n",
       "      <td>False</td>\n",
       "    </tr>\n",
       "    <tr>\n",
       "      <th>1</th>\n",
       "      <td>16th Jan: Phantom Thread (2017), 2hr 10m [R] (...</td>\n",
       "      <td>{'type': 'text/plain', 'language': None, 'base...</td>\n",
       "      <td>[{'rel': 'alternate', 'type': 'text/html', 'hr...</td>\n",
       "      <td>https://usa.newonnetflix.info/info/80195447</td>\n",
       "      <td>A fashion designer is drawn to a waitress, who...</td>\n",
       "      <td>{'type': 'text/html', 'language': None, 'base'...</td>\n",
       "      <td>Sun, 16 Jan 2022 01:07:07 -0500</td>\n",
       "      <td>(2022, 1, 16, 6, 7, 7, 6, 16, 0)</td>\n",
       "      <td>https://usa.newonnetflix.info/info/80195447</td>\n",
       "      <td>False</td>\n",
       "    </tr>\n",
       "    <tr>\n",
       "      <th>2</th>\n",
       "      <td>15th Jan: A・RIGATO ーJARUJARU TOWER 2020&amp;#x30fc...</td>\n",
       "      <td>{'type': 'text/plain', 'language': None, 'base...</td>\n",
       "      <td>[{'rel': 'alternate', 'type': 'text/html', 'hr...</td>\n",
       "      <td>https://usa.newonnetflix.info/info/81505825</td>\n",
       "      <td>Known for their quirky skits, comedy duo JaruJ...</td>\n",
       "      <td>{'type': 'text/html', 'language': None, 'base'...</td>\n",
       "      <td>Sat, 15 Jan 2022 02:18:09 -0500</td>\n",
       "      <td>(2022, 1, 15, 7, 18, 9, 5, 15, 0)</td>\n",
       "      <td>https://usa.newonnetflix.info/info/81505825</td>\n",
       "      <td>False</td>\n",
       "    </tr>\n",
       "  </tbody>\n",
       "</table>\n",
       "</div>"
      ],
      "text/plain": [
       "                                               title  \\\n",
       "0  16th Jan: Paddington (2014), 1hr 35m [PG] - St...   \n",
       "1  16th Jan: Phantom Thread (2017), 2hr 10m [R] (...   \n",
       "2  15th Jan: A・RIGATO ーJARUJARU TOWER 2020&#x30fc...   \n",
       "\n",
       "                                        title_detail  \\\n",
       "0  {'type': 'text/plain', 'language': None, 'base...   \n",
       "1  {'type': 'text/plain', 'language': None, 'base...   \n",
       "2  {'type': 'text/plain', 'language': None, 'base...   \n",
       "\n",
       "                                               links  \\\n",
       "0  [{'rel': 'alternate', 'type': 'text/html', 'hr...   \n",
       "1  [{'rel': 'alternate', 'type': 'text/html', 'hr...   \n",
       "2  [{'rel': 'alternate', 'type': 'text/html', 'hr...   \n",
       "\n",
       "                                          link  \\\n",
       "0  https://usa.newonnetflix.info/info/70305929   \n",
       "1  https://usa.newonnetflix.info/info/80195447   \n",
       "2  https://usa.newonnetflix.info/info/81505825   \n",
       "\n",
       "                                             summary  \\\n",
       "0  [Streaming Again] A lovable young bear from th...   \n",
       "1  A fashion designer is drawn to a waitress, who...   \n",
       "2  Known for their quirky skits, comedy duo JaruJ...   \n",
       "\n",
       "                                      summary_detail  \\\n",
       "0  {'type': 'text/html', 'language': None, 'base'...   \n",
       "1  {'type': 'text/html', 'language': None, 'base'...   \n",
       "2  {'type': 'text/html', 'language': None, 'base'...   \n",
       "\n",
       "                         published                   published_parsed  \\\n",
       "0  Sun, 16 Jan 2022 01:07:20 -0500  (2022, 1, 16, 6, 7, 20, 6, 16, 0)   \n",
       "1  Sun, 16 Jan 2022 01:07:07 -0500   (2022, 1, 16, 6, 7, 7, 6, 16, 0)   \n",
       "2  Sat, 15 Jan 2022 02:18:09 -0500  (2022, 1, 15, 7, 18, 9, 5, 15, 0)   \n",
       "\n",
       "                                            id  guidislink  \n",
       "0  https://usa.newonnetflix.info/info/70305929       False  \n",
       "1  https://usa.newonnetflix.info/info/80195447       False  \n",
       "2  https://usa.newonnetflix.info/info/81505825       False  "
      ]
     },
     "execution_count": 26,
     "metadata": {},
     "output_type": "execute_result"
    }
   ],
   "source": [
    "df.head(3)"
   ]
  },
  {
   "cell_type": "code",
   "execution_count": null,
   "id": "b1fc71d0",
   "metadata": {},
   "outputs": [],
   "source": []
  }
 ],
 "metadata": {
  "kernelspec": {
   "display_name": "Python 3",
   "language": "python",
   "name": "python3"
  },
  "language_info": {
   "codemirror_mode": {
    "name": "ipython",
    "version": 3
   },
   "file_extension": ".py",
   "mimetype": "text/x-python",
   "name": "python",
   "nbconvert_exporter": "python",
   "pygments_lexer": "ipython3",
   "version": "3.8.8"
  }
 },
 "nbformat": 4,
 "nbformat_minor": 5
}
