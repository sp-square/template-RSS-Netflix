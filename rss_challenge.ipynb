{
 "cells": [
  {
   "cell_type": "code",
   "execution_count": 1,
   "id": "f0dcd241",
   "metadata": {},
   "outputs": [],
   "source": [
    "import feedparser\n",
    "import os\n",
    "import pandas as pd\n",
    "from datetime import datetime"
   ]
  },
  {
   "cell_type": "code",
   "execution_count": 2,
   "id": "771358bf",
   "metadata": {},
   "outputs": [],
   "source": [
    "# set global variables\n",
    "\n",
    "itunes_rss = \"http://ax.itunes.apple.com/WebObjects/MZStoreServices.woa/ws/RSS/topMovies/xml\"\n",
    "netflix_rss = \"https://usa.newonnetflix.info/feed\"\n",
    "RSS_LIST = [itunes_rss, netflix_rss]\n",
    "\n",
    "DF_COLUMNS = ['source', 'date', 'rank', 'title', 'link', 'summary']"
   ]
  },
  {
   "cell_type": "code",
   "execution_count": 3,
   "id": "78577c6a",
   "metadata": {},
   "outputs": [],
   "source": [
    "# create a function to parse data and append to a dataframe\n",
    "def top10_movies(rss, df):\n",
    "    \n",
    "    # parse the feed\n",
    "    feed = feedparser.parse(rss)\n",
    "    \n",
    "    # check bozo to see if our feed is well-formed\n",
    "    if feed.bozo == 0:\n",
    "        print(f\"{feed.feed.title} is a well-formed feed!\")\n",
    "    else:\n",
    "        print(f\"{feed.feed.title} has flipped the bozo bit. Potential errors ahead!\")\n",
    "    \n",
    "    # set the feed date to be the published date, if it exists. If not, use the current date\n",
    "    feed_date = feed.feed.get('published', datetime.now().strftime('%Y-%m-%d'))\n",
    "    \n",
    "    # set a counter for our loop\n",
    "    i = 0\n",
    "    # for the first 10 movies in our feed, append the required information to the dataframe\n",
    "    while i < 10:\n",
    "        feed_items = pd.Series([feed.feed.title, feed_date, i+1, feed.entries[i].title, feed.entries[i].id, feed.entries[i].summary],\n",
    "                              DF_COLUMNS)\n",
    "        df = df.append(feed_items, ignore_index=True)\n",
    "        i += 1\n",
    "    \n",
    "    # return the dataframe\n",
    "    return df"
   ]
  },
  {
   "cell_type": "code",
   "execution_count": 4,
   "id": "1b790d0a",
   "metadata": {},
   "outputs": [
    {
     "name": "stdout",
     "output_type": "stream",
     "text": [
      "iTunes Store: Top Movies is a well-formed feed!\n",
      "New On Netflix USA is a well-formed feed!\n"
     ]
    }
   ],
   "source": [
    "if __name__ == \"__main__\":\n",
    "    \n",
    "    # create an empty dataframe\n",
    "    top10_df = pd.DataFrame(columns = DF_COLUMNS)\n",
    "    \n",
    "    # run each feed through our top 10 function\n",
    "    for item in RSS_LIST:\n",
    "        top10_df = top10_movies(item, top10_df)\n",
    "    \n",
    "    # save the dataframe to a csv - if the csv exists, append to it\n",
    "    if not os.path.isfile('top10.csv'):\n",
    "        top10_df.to_csv('top10.csv', header=DF_COLUMNS, index=False)\n",
    "    else:\n",
    "        top10_df.to_csv('top10.csv', mode='a', header=False, index=False)"
   ]
  },
  {
   "cell_type": "code",
   "execution_count": null,
   "id": "e9a3bd26",
   "metadata": {},
   "outputs": [],
   "source": []
  }
 ],
 "metadata": {
  "kernelspec": {
   "display_name": "Python 3",
   "language": "python",
   "name": "python3"
  },
  "language_info": {
   "codemirror_mode": {
    "name": "ipython",
    "version": 3
   },
   "file_extension": ".py",
   "mimetype": "text/x-python",
   "name": "python",
   "nbconvert_exporter": "python",
   "pygments_lexer": "ipython3",
   "version": "3.8.8"
  }
 },
 "nbformat": 4,
 "nbformat_minor": 5
}
